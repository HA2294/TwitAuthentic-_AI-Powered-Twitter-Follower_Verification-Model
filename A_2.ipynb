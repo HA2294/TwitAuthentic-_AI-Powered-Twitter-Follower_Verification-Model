{
 "cells": [
  {
   "cell_type": "code",
   "execution_count": 4,
   "id": "09a821c5",
   "metadata": {},
   "outputs": [],
   "source": [
    "import mysql.connector\n",
    "db = mysql.connector.connect(host=\"bankdb.c60n9iezxsoo.us-east-1.rds.amazonaws.com\", user=\"admin\", passwd=\"Dannylonglegs19\",database ='date_db')\n",
    "my_curs = db.cursor()\n",
    "#database ='date_db'\n",
    "#database ='date_db'"
   ]
  },
  {
   "cell_type": "code",
   "execution_count": 2,
   "id": "d6bfdae9-7317-42e2-85c5-3992d60a8d96",
   "metadata": {},
   "outputs": [],
   "source": [
    "my_curs.execute(\"DROP DATABASE date_db\")"
   ]
  },
  {
   "cell_type": "code",
   "execution_count": 3,
   "id": "6b7d2e2d-f9bc-4067-aca5-cd3e79afd34a",
   "metadata": {},
   "outputs": [],
   "source": [
    "my_curs.execute(\"CREATE DATABASE date_db;\")"
   ]
  },
  {
   "cell_type": "code",
   "execution_count": 5,
   "id": "9ce58fc1",
   "metadata": {},
   "outputs": [
    {
     "name": "stdout",
     "output_type": "stream",
     "text": [
      "CREATE TABLE branch (\n",
      "  branch_name varchar(20) PRIMARY KEY,\n",
      "  branch_city varchar(20),\n",
      "  assets real check (assets >= 0)\n",
      ");\n",
      "\n",
      "CREATE TABLE customer (\n",
      "  customer_name varchar(20) PRIMARY KEY,\n",
      "  customer_street varchar(20),\n",
      "  customer_city varchar(20)\n",
      ");\n",
      "\n",
      "CREATE TABLE account (\n",
      "  account_number varchar(20),\n",
      "  branch_name varchar(20),\n",
      "  balance int check(balance > 0),\n",
      "  PRIMARY KEY (account_number, branch_name),\n",
      "  foreign key (branch_name) references branch(branch_name) on delete cascade\n",
      ");\n",
      "\n",
      "CREATE TABLE depositor (\n",
      "  customer_name varchar(20),\n",
      "  account_number varchar(20),\n",
      "  PRIMARY KEY (customer_name, account_number),\n",
      "  foreign key (customer_name) references customer(customer_name) on delete cascade,\n",
      "  foreign key (account_number) references account(account_number) on delete cascade\n",
      ");\n",
      "\n",
      "CREATE TABLE loan (\n",
      "  loan_number varchar(20) PRIMARY KEY,\n",
      "  branch_name varchar(20),\n",
      "  amount real check(amount >= 0),\n",
      "  foreign key (branch_name) references branch(branch_name) on delete set null\n",
      ");\n",
      "\n",
      "CREATE TABLE borrower (\n",
      "  customer_name varchar(20),\n",
      "  loan_number varchar(20),\n",
      "  PRIMARY KEY (customer_name, loan_number),\n",
      "  foreign key (customer_name) references customer(customer_name) on delete cascade,\n",
      "  foreign key (loan_number) references loan(loan_number) on delete cascade\n",
      ");\n",
      "\n",
      "\n"
     ]
    },
    {
     "ename": "RuntimeError",
     "evalue": "generator raised StopIteration",
     "output_type": "error",
     "traceback": [
      "\u001b[0;31m---------------------------------------------------------------------------\u001b[0m",
      "\u001b[0;31mStopIteration\u001b[0m                             Traceback (most recent call last)",
      "\u001b[0;32m/Library/Frameworks/Python.framework/Versions/3.10/lib/python3.10/site-packages/mysql/connector/cursor.py\u001b[0m in \u001b[0;36m_execute_iter\u001b[0;34m(self, query_iter)\u001b[0m\n\u001b[1;32m    485\u001b[0m         \u001b[0;32mwhile\u001b[0m \u001b[0;32mTrue\u001b[0m\u001b[0;34m:\u001b[0m\u001b[0;34m\u001b[0m\u001b[0;34m\u001b[0m\u001b[0m\n\u001b[0;32m--> 486\u001b[0;31m             \u001b[0mresult\u001b[0m \u001b[0;34m=\u001b[0m \u001b[0mnext\u001b[0m\u001b[0;34m(\u001b[0m\u001b[0mquery_iter\u001b[0m\u001b[0;34m)\u001b[0m\u001b[0;34m\u001b[0m\u001b[0;34m\u001b[0m\u001b[0m\n\u001b[0m\u001b[1;32m    487\u001b[0m             \u001b[0mself\u001b[0m\u001b[0;34m.\u001b[0m\u001b[0m_reset_result\u001b[0m\u001b[0;34m(\u001b[0m\u001b[0;34m)\u001b[0m\u001b[0;34m\u001b[0m\u001b[0;34m\u001b[0m\u001b[0m\n",
      "\u001b[0;31mStopIteration\u001b[0m: ",
      "\nThe above exception was the direct cause of the following exception:\n",
      "\u001b[0;31mRuntimeError\u001b[0m                              Traceback (most recent call last)",
      "\u001b[0;32m/var/folders/jg/9nq9qgzx3jl24gdq2dp4z_4m0000gn/T/ipykernel_3629/2790258335.py\u001b[0m in \u001b[0;36m<module>\u001b[0;34m\u001b[0m\n\u001b[1;32m      4\u001b[0m     \u001b[0mdata\u001b[0m \u001b[0;34m=\u001b[0m \u001b[0mfile\u001b[0m\u001b[0;34m.\u001b[0m\u001b[0mread\u001b[0m\u001b[0;34m(\u001b[0m\u001b[0;34m)\u001b[0m\u001b[0;34m\u001b[0m\u001b[0;34m\u001b[0m\u001b[0m\n\u001b[1;32m      5\u001b[0m \u001b[0mprint\u001b[0m\u001b[0;34m(\u001b[0m\u001b[0mdata\u001b[0m\u001b[0;34m)\u001b[0m\u001b[0;34m\u001b[0m\u001b[0;34m\u001b[0m\u001b[0m\n\u001b[0;32m----> 6\u001b[0;31m \u001b[0;32mfor\u001b[0m \u001b[0mresult\u001b[0m \u001b[0;32min\u001b[0m \u001b[0mmy_curs\u001b[0m\u001b[0;34m.\u001b[0m\u001b[0mexecute\u001b[0m\u001b[0;34m(\u001b[0m\u001b[0mdata\u001b[0m\u001b[0;34m,\u001b[0m\u001b[0mmulti\u001b[0m\u001b[0;34m=\u001b[0m\u001b[0;32mTrue\u001b[0m\u001b[0;34m,\u001b[0m\u001b[0mparams\u001b[0m\u001b[0;34m=\u001b[0m\u001b[0;32mNone\u001b[0m\u001b[0;34m,\u001b[0m\u001b[0;34m)\u001b[0m\u001b[0;34m:\u001b[0m\u001b[0;34m\u001b[0m\u001b[0;34m\u001b[0m\u001b[0m\n\u001b[0m\u001b[1;32m      7\u001b[0m     \u001b[0;32mpass\u001b[0m\u001b[0;34m\u001b[0m\u001b[0;34m\u001b[0m\u001b[0m\n",
      "\u001b[0;31mRuntimeError\u001b[0m: generator raised StopIteration"
     ]
    }
   ],
   "source": [
    "#my_curs = db.cursor()\n",
    "#\n",
    "with open(\"tables.ddl\", \"r\") as file:\n",
    "    data = file.read()\n",
    "print(data)\n",
    "for result in my_curs.execute(data,multi=True,params=None,):\n",
    "    pass"
   ]
  },
  {
   "cell_type": "code",
   "execution_count": 6,
   "id": "6e7a7f09",
   "metadata": {},
   "outputs": [
    {
     "name": "stdout",
     "output_type": "stream",
     "text": [
      "[]\n"
     ]
    }
   ],
   "source": [
    "my_curs.execute(\"SELECT customer_name FROM customer;\")\n",
    "print(my_curs.fetchall())"
   ]
  },
  {
   "cell_type": "code",
   "execution_count": null,
   "id": "af0173a2-5786-4c09-89c5-0ed9aeef95d6",
   "metadata": {},
   "outputs": [],
   "source": []
  },
  {
   "cell_type": "code",
   "execution_count": null,
   "id": "b2abf801-9b0b-4df7-abce-64c787ecbf43",
   "metadata": {},
   "outputs": [],
   "source": []
  }
 ],
 "metadata": {
  "kernelspec": {
   "display_name": "Python 3 (ipykernel)",
   "language": "python",
   "name": "python3"
  },
  "language_info": {
   "codemirror_mode": {
    "name": "ipython",
    "version": 3
   },
   "file_extension": ".py",
   "mimetype": "text/x-python",
   "name": "python",
   "nbconvert_exporter": "python",
   "pygments_lexer": "ipython3",
   "version": "3.10.0"
  }
 },
 "nbformat": 4,
 "nbformat_minor": 5
}
